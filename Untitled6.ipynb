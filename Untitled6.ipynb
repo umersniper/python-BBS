{
 "cells": [
  {
   "cell_type": "code",
   "execution_count": 5,
   "id": "754cf02b",
   "metadata": {},
   "outputs": [
    {
     "name": "stdout",
     "output_type": "stream",
     "text": [
      "4\n"
     ]
    }
   ],
   "source": [
    "a=13\n",
    "b=22\n",
    "print(a&b)\n"
   ]
  },
  {
   "cell_type": "code",
   "execution_count": 9,
   "id": "36fe9bff",
   "metadata": {},
   "outputs": [
    {
     "name": "stdout",
     "output_type": "stream",
     "text": [
      "13\n"
     ]
    }
   ],
   "source": [
    "a=64\n",
    "b=77\n",
    "print(a^b)"
   ]
  },
  {
   "cell_type": "markdown",
   "id": "d13c829b",
   "metadata": {},
   "source": [
    "# "
   ]
  },
  {
   "cell_type": "code",
   "execution_count": 13,
   "id": "6ce2fa23",
   "metadata": {},
   "outputs": [
    {
     "name": "stdout",
     "output_type": "stream",
     "text": [
      "5\n"
     ]
    }
   ],
   "source": [
    "a=44\n",
    "print(a>>3)"
   ]
  },
  {
   "cell_type": "code",
   "execution_count": 16,
   "id": "5ebe9066",
   "metadata": {},
   "outputs": [
    {
     "name": "stdout",
     "output_type": "stream",
     "text": [
      "264\n"
     ]
    }
   ],
   "source": [
    "a=33\n",
    "print(a<<3)"
   ]
  },
  {
   "cell_type": "code",
   "execution_count": 22,
   "id": "44c91b36",
   "metadata": {},
   "outputs": [
    {
     "name": "stdout",
     "output_type": "stream",
     "text": [
      "True\n"
     ]
    }
   ],
   "source": [
    "a=4\n",
    "b=8\n",
    "print(a!=b)"
   ]
  },
  {
   "cell_type": "code",
   "execution_count": 25,
   "id": "f3cc2e41",
   "metadata": {},
   "outputs": [
    {
     "name": "stdout",
     "output_type": "stream",
     "text": [
      "False\n"
     ]
    }
   ],
   "source": [
    "a=5\n",
    "b=6\n",
    "c=7\n",
    " \n",
    "print(a<b and a>c)"
   ]
  },
  {
   "cell_type": "code",
   "execution_count": 29,
   "id": "df1f667e",
   "metadata": {},
   "outputs": [
    {
     "name": "stdout",
     "output_type": "stream",
     "text": [
      "True\n"
     ]
    }
   ],
   "source": [
    "a=5\n",
    "b=6\n",
    "c=7\n",
    " \n",
    "print(not(a>b or a>c))"
   ]
  },
  {
   "cell_type": "code",
   "execution_count": null,
   "id": "e73b9a9b",
   "metadata": {},
   "outputs": [],
   "source": []
  }
 ],
 "metadata": {
  "kernelspec": {
   "display_name": "Python 3 (ipykernel)",
   "language": "python",
   "name": "python3"
  },
  "language_info": {
   "codemirror_mode": {
    "name": "ipython",
    "version": 3
   },
   "file_extension": ".py",
   "mimetype": "text/x-python",
   "name": "python",
   "nbconvert_exporter": "python",
   "pygments_lexer": "ipython3",
   "version": "3.9.7"
  }
 },
 "nbformat": 4,
 "nbformat_minor": 5
}
