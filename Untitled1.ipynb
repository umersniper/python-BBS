{
 "cells": [
  {
   "cell_type": "code",
   "execution_count": 81,
   "id": "9a7201eb",
   "metadata": {},
   "outputs": [
    {
     "data": {
      "image/png": "[encoded data removed]",
      "text/plain": [
       "<Figure size 432x288 with 1 Axes>"
      ]
     },
     "metadata": {
      "needs_background": "light"
     },
     "output_type": "display_data"
    }
   ],
   "source": [
    "import matplotlib.pyplot as plt\n",
    "import numpy as np\n",
    "\n",
    "'''fon={\"family\":\"serif\",\"color\":\"red\"}\n",
    "plt.title(\"Income Statement\",fon)\n",
    "plt.xlabel(\"average\",fon)\n",
    "plt.ylabel(\"Super\",fon)\n",
    "plt.plot(xpoint,ypoint,marker='x',linestyle=\"dotted\",color=\"pink\")\n",
    "plt.subplot(2,3,1)\n",
    "plt.plot(xpoint,ypoint)\n",
    "\n",
    "xpoint=np.array([2,3,5,7])\n",
    "ypoint=np.array([1,1,10,70])\n",
    "plt.subplot(2,3,2)\n",
    "plt.plot(xpoint,ypoint)\n",
    "xpoint=np.array([2,3,5,7])\n",
    "ypoint=np.array([1,1,10,70])\n",
    "plt.subplot(2,3,3)\n",
    "plt.plot(xpoint,ypoint)\n",
    "plt.scatter(xpoint,ypoint,color=col)\n",
    "\n",
    "'''\n",
    "x=np.array([5,6,8,7])\n",
    "y=np.array([99,86,87,88])\n",
    "col=[\"red\",\"green\",\"blue\",\"yellow\"]\n",
    "plt.bar(x,y,color=col)\n",
    "\n",
    "plt.show()"
   ]
  },
  {
   "cell_type": "code",
   "execution_count": null,
   "id": "df8928c4",
   "metadata": {},
   "outputs": [],
   "source": []
  },
  {
   "cell_type": "code",
   "execution_count": null,
   "id": "19d00ba2",
   "metadata": {},
   "outputs": [],
   "source": []
  }
 ],
 "metadata": {
  "kernelspec": {
   "display_name": "Python 3 (ipykernel)",
   "language": "python",
   "name": "python3"
  },
  "language_info": {
   "codemirror_mode": {
    "name": "ipython",
    "version": 3
   },
   "file_extension": ".py",
   "mimetype": "text/x-python",
   "name": "python",
   "nbconvert_exporter": "python",
   "pygments_lexer": "ipython3",
   "version": "3.9.7"
  }
 },
 "nbformat": 4,
 "nbformat_minor": 5
}
