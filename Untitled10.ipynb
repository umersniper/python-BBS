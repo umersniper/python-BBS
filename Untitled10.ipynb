{
 "cells": [
  {
   "cell_type": "code",
   "execution_count": 1,
   "id": "4c9c393e",
   "metadata": {},
   "outputs": [
    {
     "name": "stdout",
     "output_type": "stream",
     "text": [
      "24\n"
     ]
    }
   ],
   "source": [
    "a = 12\n",
    "b =a  \n",
    "print (a+b)"
   ]
  },
  {
   "cell_type": "code",
   "execution_count": 3,
   "id": "7e2ede51",
   "metadata": {},
   "outputs": [
    {
     "name": "stdout",
     "output_type": "stream",
     "text": [
      "16.0\n"
     ]
    }
   ],
   "source": [
    "print(12+34-12-(12*3)/2)"
   ]
  },
  {
   "cell_type": "code",
   "execution_count": 8,
   "id": "193d045e",
   "metadata": {},
   "outputs": [
    {
     "name": "stdout",
     "output_type": "stream",
     "text": [
      "16.0\n"
     ]
    }
   ],
   "source": [
    "print(12+34-12-(12*3)/2)"
   ]
  },
  {
   "cell_type": "code",
   "execution_count": 10,
   "id": "b26a902a",
   "metadata": {},
   "outputs": [
    {
     "name": "stdout",
     "output_type": "stream",
     "text": [
      "72.0\n"
     ]
    }
   ],
   "source": [
    "print(a*b/2)"
   ]
  },
  {
   "cell_type": "code",
   "execution_count": 11,
   "id": "483c3667",
   "metadata": {},
   "outputs": [
    {
     "name": "stdout",
     "output_type": "stream",
     "text": [
      "20\n"
     ]
    }
   ],
   "source": [
    "print(a+2+b//2)"
   ]
  },
  {
   "cell_type": "code",
   "execution_count": 12,
   "id": "ab7cf1dd",
   "metadata": {},
   "outputs": [
    {
     "name": "stdout",
     "output_type": "stream",
     "text": [
      "-30.0\n"
     ]
    }
   ],
   "source": [
    "print(12//2+a-(12*12)/3)"
   ]
  },
  {
   "cell_type": "code",
   "execution_count": 16,
   "id": "8f5d6e4d",
   "metadata": {},
   "outputs": [
    {
     "name": "stdout",
     "output_type": "stream",
     "text": [
      "-42.0\n"
     ]
    }
   ],
   "source": [
    "print(12//2-(12*12)/3)"
   ]
  },
  {
   "cell_type": "code",
   "execution_count": 17,
   "id": "6718db28",
   "metadata": {},
   "outputs": [
    {
     "name": "stdout",
     "output_type": "stream",
     "text": [
      "-29.0\n"
     ]
    }
   ],
   "source": [
    "print(12-(12//2)*(12/2)-5)"
   ]
  },
  {
   "cell_type": "code",
   "execution_count": 19,
   "id": "651bb32c",
   "metadata": {},
   "outputs": [
    {
     "name": "stdout",
     "output_type": "stream",
     "text": [
      "8\n"
     ]
    }
   ],
   "source": [
    "print(2+2+2+2+0)\n"
   ]
  },
  {
   "cell_type": "code",
   "execution_count": null,
   "id": "8636f830",
   "metadata": {},
   "outputs": [],
   "source": []
  },
  {
   "cell_type": "markdown",
   "id": "15573896",
   "metadata": {},
   "source": [
    "# bodmas bracket oforder division multiplication addition subtraction\n",
    "[{()}]"
   ]
  }
 ],
 "metadata": {
  "kernelspec": {
   "display_name": "Python 3 (ipykernel)",
   "language": "python",
   "name": "python3"
  },
  "language_info": {
   "codemirror_mode": {
    "name": "ipython",
    "version": 3
   },
   "file_extension": ".py",
   "mimetype": "text/x-python",
   "name": "python",
   "nbconvert_exporter": "python",
   "pygments_lexer": "ipython3",
   "version": "3.9.7"
  }
 },
 "nbformat": 4,
 "nbformat_minor": 5
}
